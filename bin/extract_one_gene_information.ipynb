{
 "cells": [
  {
   "cell_type": "markdown",
   "metadata": {},
   "source": [
    "# This script is used to extract one certain gene’s information."
   ]
  },
  {
   "cell_type": "code",
   "execution_count": 1,
   "metadata": {},
   "outputs": [],
   "source": [
    "import glob\n",
    "import json\n",
    "import ast"
   ]
  },
  {
   "cell_type": "code",
   "execution_count": 2,
   "metadata": {},
   "outputs": [],
   "source": [
    "#define dir\n",
    "json_path = '.\\\\Extraced_results'\n",
    "jsons = glob.glob(\"{}\\\\*.json\".format(json_path)) \n",
    "# input dir\n",
    "NPMI_dir='.\\\\NPMI_file\\\\NPMI.json'\n",
    "np_dir = '.\\\\Sum_all\\\\n_p.txt'\n",
    "ng_dir = '.\\\\Sum_all\\\\n_g.txt'\n",
    "In_Summary_dir='.\\\\Sum_all\\\\In_Summary.txt'\n",
    "# output dir\n",
    "one_information_dir = '.\\\\one_gene_information\\\\'"
   ]
  },
  {
   "cell_type": "code",
   "execution_count": 3,
   "metadata": {},
   "outputs": [],
   "source": [
    "# define the extracted gene\n",
    "gene_extract = \"SLC38A11\""
   ]
  },
  {
   "cell_type": "code",
   "execution_count": 4,
   "metadata": {},
   "outputs": [],
   "source": [
    "# define a dict to store the extracted gene information\n",
    "gene_extract_property_dict = {\"Gene name\":gene_extract,\n",
    "                              \"Gene sfari class\":None,\n",
    "                              'Related sentences':{},\n",
    "                              'Related phenotype NPMI':{},\n",
    "                              'Summary':{\"Paper number\":None, \n",
    "                                         \"Paper list\":[],\n",
    "                                         \"Sentence number\":None,\n",
    "                                         \"Normolized phenotype number\":None}}"
   ]
  },
  {
   "cell_type": "code",
   "execution_count": 5,
   "metadata": {},
   "outputs": [],
   "source": [
    "# read file in .\\\\Sum_all\n",
    "def read_file():\n",
    "    # read n_p\n",
    "    with open(np_dir, 'r', encoding='utf-8-sig') as o:  \n",
    "        phenotype_dict =  ast.literal_eval(o.read())\n",
    "    \n",
    "            \n",
    "    # read n_g\n",
    "    with open(ng_dir, 'r', encoding='utf-8-sig') as o:  \n",
    "        gene_dict =  ast.literal_eval(o.read())\n",
    "            \n",
    "    # read n_tot\n",
    "    with open(In_Summary_dir, 'r', encoding='utf-8-sig') as o:  \n",
    "        f=o.read()\n",
    "        h = f.find('N_tot = ')\n",
    "        e = f.find('Unique gene list from all papers:')\n",
    "        n_tot = int(f[h+8:e-2])\n",
    "    return phenotype_dict, gene_dict, n_tot\n",
    "\n",
    "phenotype_dict, gene_dict, n_tot = read_file()\n"
   ]
  },
  {
   "cell_type": "code",
   "execution_count": 6,
   "metadata": {},
   "outputs": [],
   "source": [
    "# get gene_list and phenotype list from gene_dict and phenotype_dict\n",
    "def get_list(gene_dict,phenotype_dict):\n",
    "    gene_list=[]\n",
    "    for key in gene_dict.keys():\n",
    "        gene_list.append(key)\n",
    "    phenotype_list=[]\n",
    "    for key in phenotype_dict.keys():\n",
    "        phenotype_list.append(key)\n",
    "    return gene_list,phenotype_list\n",
    "\n",
    "gene_list,phenotype_list = get_list(gene_dict,phenotype_dict)"
   ]
  },
  {
   "cell_type": "code",
   "execution_count": 7,
   "metadata": {},
   "outputs": [
    {
     "name": "stdout",
     "output_type": "stream",
     "text": [
      "0\n",
      "100\n",
      "200\n",
      "300\n",
      "400\n",
      "500\n",
      "600\n",
      "700\n",
      "800\n",
      "900\n",
      "1000\n",
      "1100\n",
      "1200\n",
      "1300\n",
      "1400\n",
      "1500\n",
      "1600\n",
      "1700\n",
      "1800\n",
      "1900\n",
      "2000\n",
      "2100\n",
      "2200\n",
      "2300\n",
      "2400\n",
      "2500\n",
      "2600\n",
      "2700\n",
      "2800\n",
      "2900\n",
      "3000\n",
      "3100\n",
      "3200\n",
      "3300\n",
      "3400\n",
      "3500\n",
      "3600\n",
      "3700\n",
      "3800\n",
      "3900\n",
      "4000\n",
      "4100\n",
      "4200\n",
      "4300\n",
      "4400\n",
      "4500\n",
      "4600\n",
      "4700\n",
      "4800\n",
      "4900\n",
      "5000\n",
      "5100\n",
      "5200\n",
      "5300\n",
      "5400\n",
      "5500\n",
      "5600\n",
      "5700\n",
      "5800\n",
      "5900\n",
      "6000\n",
      "6100\n",
      "6200\n",
      "6300\n",
      "6400\n",
      "6500\n",
      "6600\n",
      "6700\n",
      "6800\n",
      "6900\n",
      "7000\n",
      "7100\n",
      "7200\n",
      "7300\n",
      "7400\n",
      "7500\n",
      "7600\n",
      "7700\n",
      "7800\n",
      "7900\n",
      "8000\n",
      "8100\n",
      "8200\n",
      "8300\n",
      "8400\n"
     ]
    }
   ],
   "source": [
    "# extract sentences which contain this gene from results in step 1\n",
    "Sentence_number = 0\n",
    "for index,item in enumerate(jsons) :\n",
    "    if index%100 ==0:\n",
    "        print(index)\n",
    "    with open(item, 'r', encoding='utf-8-sig') as f:\n",
    "        json_data = json.load(f)\n",
    "\n",
    "        for key in json_data['Sentences']:\n",
    "            json_phenotype = json_data['Sentences'][key]['Normolized phenotype']\n",
    "            json_gene = json_data['Sentences'][key]['Gene']\n",
    "            if gene_extract in json_gene:\n",
    "                Sentence_number += 1\n",
    "                gene_extract_property_dict['Related sentences'].update({'Sentence'+str(Sentence_number).zfill(3):{'PMCid':json_data['PMCid'],                                                                         'Title':json_data['Title']}})\n",
    "                gene_extract_property_dict['Related sentences']['Sentence'+str(Sentence_number).zfill(3)].update(json_data['Sentences'][key])\n",
    "       "
   ]
  },
  {
   "cell_type": "code",
   "execution_count": 8,
   "metadata": {},
   "outputs": [],
   "source": [
    "# extract NPMI information from results in step 2\n",
    "extracted_gene_NPMI_list = []\n",
    "\n",
    "with open(NPMI_dir, 'r', encoding='utf-8-sig') as f:\n",
    "    NPMI_data = json.load(f)\n",
    "\n",
    "    for item in NPMI_data:\n",
    "        if item['gene']==gene_extract:\n",
    "            extracted_gene_NPMI_list.append(item)\n",
    "    extracted_gene_NPMI_list.sort(key=lambda x: -x[\"NPMI\"])\n",
    "\n",
    "    \n",
    "for index, item in enumerate(extracted_gene_NPMI_list):\n",
    "    gene_extract_property_dict['Related phenotype NPMI'][item[\"phenotype\"]] = item[\"NPMI\"]\n",
    "    if index ==0:\n",
    "        gene_extract_property_dict[\"Gene sfari class\"] = item[\"gene_sfari_class\"]"
   ]
  },
  {
   "cell_type": "code",
   "execution_count": 9,
   "metadata": {},
   "outputs": [],
   "source": [
    "# get summary of extracted gene information\n",
    "gene_extract_property_dict['Summary']['Sentence number'] = Sentence_number\n",
    "gene_extract_property_dict['Summary']['Normolized phenotype number'] = len(gene_extract_property_dict['Related phenotype NPMI'])\n",
    "templist = []\n",
    "templist2 = []\n",
    "for sentence in gene_extract_property_dict['Related sentences']:\n",
    "    templist.append(gene_extract_property_dict['Related sentences'][sentence]['PMCid'])\n",
    "    templist2.append(gene_extract_property_dict['Related sentences'][sentence]['Title'])\n",
    "    \n",
    "gene_extract_property_dict['Summary']['Paper list'] = list(set(templist))\n",
    "gene_extract_property_dict['Summary']['Paper name list'] = list(set(templist2))  \n",
    "gene_extract_property_dict['Summary']['Paper number'] = len(gene_extract_property_dict['Summary']['Paper list'])"
   ]
  },
  {
   "cell_type": "code",
   "execution_count": 10,
   "metadata": {},
   "outputs": [],
   "source": [
    "# write the json file\n",
    "with open(one_information_dir+gene_extract+\"_information.json\", 'w', encoding='utf-8-sig') as f:\n",
    "    json.dump(gene_extract_property_dict , f , sort_keys=True, indent=4, separators=(',', ': '))\n",
    "                "
   ]
  },
  {
   "cell_type": "code",
   "execution_count": 11,
   "metadata": {},
   "outputs": [],
   "source": [
    "# write the summary txt file\n",
    "with open(one_information_dir+gene_extract+\"_summary.txt\", 'w', encoding='utf-8-sig') as f:\n",
    "    f.write(\"Gene name: %s \\n\" % gene_extract)\n",
    "    f.write(\"Paper number: %d \\n\" % gene_extract_property_dict['Summary']['Paper number']) \n",
    "    f.write(\"Paper list: \\n\" )\n",
    "    for paper in gene_extract_property_dict['Summary']['Paper list'] :\n",
    "        f.write(paper)\n",
    "        f.write('\\t')\n",
    "    f.write('\\n')        \n",
    "    f.write(\"Paper name list: \\n\" )\n",
    "    for paper in gene_extract_property_dict['Summary']['Paper name list'] :\n",
    "        f.write(paper)\n",
    "        f.write('\\n')\n",
    "    f.write('\\n')\n",
    "    f.write(\"Sentence number: %d \\n\" % gene_extract_property_dict['Summary']['Sentence number'])\n",
    "    f.write(\"Normolized phenotype number: %d \\n\" % gene_extract_property_dict['Summary']['Normolized phenotype number'])    \n",
    "    "
   ]
  }
 ],
 "metadata": {
  "kernelspec": {
   "display_name": "Python 3",
   "language": "python",
   "name": "python3"
  },
  "language_info": {
   "codemirror_mode": {
    "name": "ipython",
    "version": 3
   },
   "file_extension": ".py",
   "mimetype": "text/x-python",
   "name": "python",
   "nbconvert_exporter": "python",
   "pygments_lexer": "ipython3",
   "version": "3.8.3"
  }
 },
 "nbformat": 4,
 "nbformat_minor": 4
}
